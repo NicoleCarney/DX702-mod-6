{
 "cells": [
  {
   "cell_type": "code",
   "execution_count": 12,
   "id": "a071142e",
   "metadata": {},
   "outputs": [],
   "source": [
    "import numpy as np\n",
    "import scipy\n",
    "import pandas as pd\n",
    "import matplotlib.pyplot as plt\n",
    "from sklearn.metrics import root_mean_squared_error\n",
    "from sklearn.linear_model import LinearRegression\n"
   ]
  },
  {
   "cell_type": "code",
   "execution_count": 13,
   "id": "43abb7fd",
   "metadata": {},
   "outputs": [],
   "source": [
    "data2 = pd.read_csv(\"homework_2.1.csv\")"
   ]
  },
  {
   "cell_type": "markdown",
   "id": "ea0d8442",
   "metadata": {},
   "source": [
    "Do a regression to estimate the fixed effect of each group. We assume that there is one single linear coefficient for all the data, plus the fixed effect of each group. Use the file homework_2.1.csv. The variables G1, G2, and G3 are the outcomes and the time is the treatment."
   ]
  },
  {
   "cell_type": "code",
   "execution_count": 14,
   "id": "0b50eaf1",
   "metadata": {},
   "outputs": [
    {
     "name": "stdout",
     "output_type": "stream",
     "text": [
      "Group 1 fixed effect (intercept): 0.07855194563250578\n",
      "Common slope (time): 0.009017213376459327\n",
      "Adjustment for Group 2: 0.5111024776066762\n",
      "Adjustment for Group 3: 0.190479861952926\n"
     ]
    }
   ],
   "source": [
    "Y = pd.concat([data2[\"G1\"], data2[\"G2\"], data2[\"G3\"]], axis=0).values\n",
    "\n",
    "time = np.tile(data2[\"time\"].values, 3)\n",
    "\n",
    "groups = np.repeat([\"G1\",\"G2\",\"G3\"], len(data2))\n",
    "group_dummies = pd.get_dummies(groups, drop_first=True)\n",
    "\n",
    "X = np.column_stack([time, group_dummies.values])\n",
    "\n",
    "model = LinearRegression().fit(X, Y)\n",
    "\n",
    "# Results\n",
    "print(\"Group 1 fixed effect (intercept):\", model.intercept_)\n",
    "print(\"Common slope (time):\", model.coef_[0])\n",
    "print(\"Adjustment for Group 2:\", model.coef_[1])\n",
    "print(\"Adjustment for Group 3:\", model.coef_[2])"
   ]
  },
  {
   "cell_type": "code",
   "execution_count": null,
   "id": "bcb0b308",
   "metadata": {},
   "outputs": [],
   "source": []
  }
 ],
 "metadata": {
  "kernelspec": {
   "display_name": "Python 3",
   "language": "python",
   "name": "python3"
  },
  "language_info": {
   "codemirror_mode": {
    "name": "ipython",
    "version": 3
   },
   "file_extension": ".py",
   "mimetype": "text/x-python",
   "name": "python",
   "nbconvert_exporter": "python",
   "pygments_lexer": "ipython3",
   "version": "3.12.1"
  }
 },
 "nbformat": 4,
 "nbformat_minor": 5
}
