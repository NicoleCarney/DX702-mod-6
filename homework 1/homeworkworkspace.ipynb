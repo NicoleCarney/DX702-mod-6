{
 "cells": [
  {
   "cell_type": "code",
   "execution_count": 13,
   "id": "c9b24b90",
   "metadata": {},
   "outputs": [
    {
     "name": "stdout",
     "output_type": "stream",
     "text": [
      "   Unnamed: 0        X1        X2        X3          Y\n",
      "0           0 -0.440646 -0.390227  0.156718  -0.877671\n",
      "1           1 -3.810099 -1.304665 -1.105117 -10.130388\n",
      "2           2 -1.425451 -0.340049  1.115908   0.284068\n",
      "3           3 -1.325750  0.161906 -0.254670  -1.994344\n",
      "4           4  3.120263  1.487343 -1.164839   2.030030\n",
      "Intercept: 0.0026430033841688405\n",
      "Coefficients: [1.00713766 1.96456859 2.97548854]\n",
      "MSE: 0.2509162964680301\n",
      "RMSE: 0.5009154584039408\n",
      "R^2: 0.9907160704940021\n"
     ]
    }
   ],
   "source": [
    "import pandas as pd\n",
    "import numpy as np\n",
    "import matplotlib.pyplot as plt\n",
    "from sklearn.linear_model import LinearRegression\n",
    "from sklearn.metrics import mean_squared_error, r2_score\n",
    "data = pd.read_csv(\"homework_1.1.csv\")\n",
    "print(data.head())\n",
    "X = data[['X1', 'X2', 'X3']]\n",
    "y = data['Y']\n",
    "model = LinearRegression()\n",
    "model.fit(X, y)\n",
    "print(\"Intercept:\", model.intercept_)\n",
    "print(\"Coefficients:\", model.coef_)\n",
    "y_pred = model.predict(X)\n",
    "mse = mean_squared_error(y, y_pred)\n",
    "rmse = np.sqrt(mse)\n",
    "r2 = r2_score(y, y_pred)\n",
    "print(\"MSE:\", mse)\n",
    "print(\"RMSE:\", rmse)\n",
    "print(\"R^2:\", r2)"
   ]
  },
  {
   "cell_type": "code",
   "execution_count": 14,
   "id": "c85d3e99",
   "metadata": {},
   "outputs": [
    {
     "name": "stdout",
     "output_type": "stream",
     "text": [
      "{'X1': np.float64(1.8417610991461835), 'X2': np.float64(4.083612579373998), 'X3': np.float64(3.097041202049842)}\n"
     ]
    }
   ],
   "source": [
    "#Simple Regression for Xi\n",
    "\n",
    "slopes_alone = {}\n",
    "for col in ['X1', 'X2', 'X3']:\n",
    "    model_simple = LinearRegression()\n",
    "    Xi = data[[col]]\n",
    "    model_simple.fit(Xi,y)\n",
    "    slopes_alone[col] = model_simple.coef_[0]\n",
    "\n",
    "print(slopes_alone)"
   ]
  },
  {
   "cell_type": "code",
   "execution_count": 15,
   "id": "d1c994cd",
   "metadata": {},
   "outputs": [
    {
     "name": "stdout",
     "output_type": "stream",
     "text": [
      "{'X1': np.float64(1.0071376550530298), 'X2': np.float64(1.964568594874394), 'X3': np.float64(2.9754885351634344)}\n"
     ]
    }
   ],
   "source": [
    "#Multiple Regressions\n",
    "slopes_multi = dict(zip(['X1','X2','X3'], model.coef_))\n",
    "\n",
    "print(slopes_multi)"
   ]
  },
  {
   "cell_type": "code",
   "execution_count": 16,
   "id": "652f1ea5",
   "metadata": {},
   "outputs": [
    {
     "name": "stdout",
     "output_type": "stream",
     "text": [
      "Differences: {'X1': np.float64(0.8346234440931537), 'X2': np.float64(2.119043984499604), 'X3': np.float64(0.12155266688640776)}\n"
     ]
    }
   ],
   "source": [
    "differences = {col: abs(slopes_alone[col] - slopes_multi[col]) for col in slopes_alone}\n",
    "print(\"Differences:\", differences)"
   ]
  },
  {
   "cell_type": "code",
   "execution_count": null,
   "id": "b60bcdf5",
   "metadata": {},
   "outputs": [],
   "source": []
  }
 ],
 "metadata": {
  "kernelspec": {
   "display_name": "Python 3",
   "language": "python",
   "name": "python3"
  },
  "language_info": {
   "codemirror_mode": {
    "name": "ipython",
    "version": 3
   },
   "file_extension": ".py",
   "mimetype": "text/x-python",
   "name": "python",
   "nbconvert_exporter": "python",
   "pygments_lexer": "ipython3",
   "version": "3.12.1"
  }
 },
 "nbformat": 4,
 "nbformat_minor": 5
}
