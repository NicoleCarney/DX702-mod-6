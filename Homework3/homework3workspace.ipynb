{
 "cells": [
  {
   "cell_type": "code",
   "execution_count": 37,
   "id": "477f527e",
   "metadata": {},
   "outputs": [],
   "source": [
    "import numpy as np\n",
    "import pandas as pd\n",
    "from sklearn.linear_model import LinearRegression\n",
    "\n",
    "df = pd.read_csv(\"homework_3.1.csv\")"
   ]
  },
  {
   "cell_type": "code",
   "execution_count": 38,
   "id": "dd0cc751",
   "metadata": {},
   "outputs": [],
   "source": [
    "results = {}\n",
    "for col in [\"value1\", \"value2\", \"value3\"]:\n",
    "    df[\"event\"] = (df[\"time\"] >= 50).astype(int)\n",
    "    df[\"interaction\"] = df[\"time\"] * df[\"event\"]\n",
    "    y = df[col]\n"
   ]
  },
  {
   "cell_type": "markdown",
   "id": "6a50d498",
   "metadata": {},
   "source": [
    "Line 1: Dictionary to hold results for each dataset.\n",
    "\n",
    "Line 2: Runs the same analysis on each of the three series.\n",
    "\n",
    "Line 3: event: 0 before time 50, 1 after.\n",
    "\n",
    "Line 4: interaction: 0 before event, equals time after event (used for slope test).\n",
    "\n",
    "Line 5: y: the current dataset column (value1, value2, or value3)."
   ]
  },
  {
   "cell_type": "markdown",
   "id": "2a547057",
   "metadata": {},
   "source": [
    "For questions 1 and 2: \n",
    "\n",
    "Given a dataset with time series data containing an event, use a linear regression to test whether there was a discontinuity in the data at the event. Consider the possibility, first, of a discontinuity only in the value of the variable but not the derivative. Then consider that there may be a discontinuity in the first derivative (the slope).  \n",
    "Use the file homework_3.1.csv. "
   ]
  },
  {
   "cell_type": "markdown",
   "id": "0e015c00",
   "metadata": {},
   "source": [
    "## **Model 1: test for a jump in the level (value discontinuity)**"
   ]
  },
  {
   "cell_type": "code",
   "execution_count": 39,
   "id": "488881d0",
   "metadata": {},
   "outputs": [],
   "source": [
    "X1 = df[[\"time\", \"event\"]]\n",
    "model1 = LinearRegression().fit(X1, y)\n",
    "jump_coef = model1.coef_[1]\n",
    "\n"
   ]
  },
  {
   "cell_type": "markdown",
   "id": "d47e39d9",
   "metadata": {},
   "source": [
    "Uses time and event as predictors.\n",
    "\n",
    "jump_coef measures the size of the jump in the series at the event."
   ]
  },
  {
   "cell_type": "markdown",
   "id": "6005009a",
   "metadata": {},
   "source": [
    "## **Model 2 - Slope Change**"
   ]
  },
  {
   "cell_type": "code",
   "execution_count": 40,
   "id": "7e0171dc",
   "metadata": {},
   "outputs": [],
   "source": [
    "X2 = df[[\"time\", \"event\", \"interaction\"]]\n",
    "model2 = LinearRegression().fit(X2, y)\n",
    "slope_coef = model2.coef_[2]\n"
   ]
  },
  {
   "cell_type": "markdown",
   "id": "5266af44",
   "metadata": {},
   "source": [
    "Adds interaction to allow slope change after event.\n",
    "\n",
    "slope_coef measures the change in slope at the event."
   ]
  },
  {
   "cell_type": "code",
   "execution_count": 41,
   "id": "cd4376e1",
   "metadata": {},
   "outputs": [
    {
     "name": "stdout",
     "output_type": "stream",
     "text": [
      "        jump_coef  slope_coef\n",
      "value3   1.767254    0.050695\n"
     ]
    }
   ],
   "source": [
    "results[col] = {\"jump_coef\": jump_coef, \"slope_coef\": slope_coef}\n",
    "print(pd.DataFrame(results).T)\n"
   ]
  },
  {
   "cell_type": "markdown",
   "id": "875f6a9a",
   "metadata": {},
   "source": [
    "Stores results for each dataset.\n",
    "\n",
    "Converts dictionary to a table and prints it.\n",
    "\n",
    "Largest jump_coef → strongest discontinuity in value (Q1).\n",
    "\n",
    "Largest slope_coef → strongest discontinuity in slope (Q2)."
   ]
  },
  {
   "cell_type": "markdown",
   "id": "9890a1d0",
   "metadata": {},
   "source": [
    "For questions 3 to 5:  \n",
    "\n",
    "Given a dataset with treatment and control data having “before” and “after” parts, apply a differences-in-differences regression.  \n",
    "Use homework_3.2.a.csv and homework_3.2.b.csv. "
   ]
  },
  {
   "cell_type": "markdown",
   "id": "340fb507",
   "metadata": {},
   "source": [
    "File A (homework_3.2.a.csv)\n",
    "Columns:\n",
    "\n",
    "group1 → 0 = control, 1 = treatment\n",
    "\n",
    "time1 → 0 = before, 1 = after\n",
    "\n",
    "outcome1 → measured outcome\n",
    "\n",
    "\n",
    "File B (homework_3.2.b.csv)\n",
    "Columns:\n",
    "\n",
    "group2 → 0 = control, 1 = treatment\n",
    "\n",
    "time2 → 0 = before, 1 = after\n",
    "\n",
    "outcome2 → measured outcome"
   ]
  },
  {
   "cell_type": "markdown",
   "id": "fc3fed0c",
   "metadata": {},
   "source": [
    "## **Question 3 - 5 Differences-in-Differences Code**"
   ]
  },
  {
   "cell_type": "code",
   "execution_count": 42,
   "id": "39926fb4",
   "metadata": {},
   "outputs": [],
   "source": [
    "a = pd.read_csv(\"homework_3.2.a.csv\")\n",
    "b = pd.read_csv(\"homework_3.2.b.csv\")\n"
   ]
  },
  {
   "cell_type": "code",
   "execution_count": 43,
   "id": "f88b8a9c",
   "metadata": {},
   "outputs": [
    {
     "name": "stdout",
     "output_type": "stream",
     "text": [
      "Differences-in-Differences estimate for A: 0.685846968992887\n",
      "Differences-in-Differences estimate for B: 1.3498589246939958\n"
     ]
    }
   ],
   "source": [
    "def run_did(df, group_col, time_col, outcome_col):\n",
    "    df[\"interaction\"] = df[group_col] * df[time_col]\n",
    "    X = df[[group_col, time_col, \"interaction\"]]\n",
    "    y = df[outcome_col]\n",
    "    model = LinearRegression().fit(X, y)\n",
    "    return model.coef_[2]\n",
    "did_a = run_did(a.copy(), \"group1\", \"time1\", \"outcome1\")\n",
    "did_b = run_did(b.copy(), \"group2\", \"time2\", \"outcome2\")\n",
    "print(\"Differences-in-Differences estimate for A:\", did_a)\n",
    "print(\"Differences-in-Differences estimate for B:\", did_b)"
   ]
  },
  {
   "cell_type": "markdown",
   "id": "92813f68",
   "metadata": {},
   "source": [
    "Line 1: Imports pandas to load and manipulate CSV data.\n",
    "\n",
    "Line 2: Imports LinearRegression (scikit-learn) to fit the DiD regression (OLS with an intercept by default).\n",
    "\n",
    "Line 3: Reads homework_3.2.a.csv into DataFrame a.\n",
    "\n",
    "Line 4: Reads homework_3.2.b.csv into DataFrame b.\n",
    "\n",
    "Line 5: Starts a helper function run_did that will compute the DiD estimate for a given DataFrame and column names.\n",
    "\n",
    "Line 6: Creates the interaction term (treatment * post), which equals 1 only for treated units after the intervention; this coefficient is the DiD effect.\n",
    "\n",
    "Line 7: Builds the feature matrix X with three regressors: treatment dummy (group_col), post-period dummy (time_col), and the interaction. (Intercept is handled automatically by LinearRegression.)\n",
    "\n",
    "Line 8: Sets the target vector y to the specified outcome column.\n",
    "\n",
    "Line 9: Fits the linear model y ~ group + time + group*time and stores the trained model.\n",
    "\n",
    "Line 10: Returns the interaction coefficient (index 2), which is the Differences-in-Differences estimate.\n",
    "\n",
    "Line 11: Runs DiD on dataset A (using .copy() so adding the interaction column doesn’t mutate the original a) with its column names.\n",
    "\n",
    "Line 12: Runs DiD on dataset B similarly.\n",
    "\n",
    "Line 13: Prints the DiD estimate for A so you can read it off for the quiz.\n",
    "\n",
    "Line 14: Prints the DiD estimate for B."
   ]
  }
 ],
 "metadata": {
  "kernelspec": {
   "display_name": "Python 3",
   "language": "python",
   "name": "python3"
  },
  "language_info": {
   "codemirror_mode": {
    "name": "ipython",
    "version": 3
   },
   "file_extension": ".py",
   "mimetype": "text/x-python",
   "name": "python",
   "nbconvert_exporter": "python",
   "pygments_lexer": "ipython3",
   "version": "3.12.1"
  }
 },
 "nbformat": 4,
 "nbformat_minor": 5
}
